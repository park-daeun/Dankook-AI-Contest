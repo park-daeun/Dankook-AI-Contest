{
 "cells": [
  {
   "cell_type": "markdown",
   "metadata": {},
   "source": [
    "## 라이브러리 import 및 설정"
   ]
  },
  {
   "cell_type": "code",
   "execution_count": 1,
   "metadata": {},
   "outputs": [],
   "source": [
    "%reload_ext autoreload\n",
    "%autoreload 2\n",
    "%matplotlib inline"
   ]
  },
  {
   "cell_type": "code",
   "execution_count": 2,
   "metadata": {},
   "outputs": [],
   "source": [
    "import lightgbm as lgb\n",
    "from matplotlib import pyplot as plt\n",
    "from matplotlib import rcParams\n",
    "import numpy as np\n",
    "from pathlib import Path\n",
    "import pandas as pd\n",
    "from sklearn.metrics import accuracy_score\n",
    "from sklearn.model_selection import train_test_split\n",
    "import seaborn as sns\n",
    "import warnings"
   ]
  },
  {
   "cell_type": "code",
   "execution_count": 3,
   "metadata": {},
   "outputs": [],
   "source": [
    "rcParams['figure.figsize'] = (16, 8)\n",
    "plt.style.use('fivethirtyeight')\n",
    "pd.set_option('max_columns', 100)\n",
    "pd.set_option(\"display.precision\", 4)\n",
    "warnings.simplefilter('ignore')"
   ]
  },
  {
   "cell_type": "markdown",
   "metadata": {},
   "source": [
    "## 학습데이터 로드"
   ]
  },
  {
   "cell_type": "markdown",
   "metadata": {},
   "source": [
    "03-pandas-eda.ipynb에서 생성한 feature.csv 피처파일 사용"
   ]
  },
  {
   "cell_type": "code",
   "execution_count": 7,
   "metadata": {},
   "outputs": [],
   "source": [
    "data_dir = Path('C:/Users/ekdms/input/')\n",
    "feature_dir = Path('C:/Users/ekdms/build/feature')\n",
    "sub_dir = Path('C:/Users/ekdms/build/sub')\n",
    "\n",
    "trn_file = data_dir / 'train.csv'\n",
    "tst_file = data_dir / 'test.csv'\n",
    "sample_file = data_dir / 'sample_submission.csv'\n",
    "\n",
    "target_col = 'class'\n",
    "seed = 42"
   ]
  },
  {
   "cell_type": "code",
   "execution_count": 8,
   "metadata": {},
   "outputs": [],
   "source": [
    "algo_name = 'lgb'\n",
    "feature_name = 'feature'\n",
    "model_name = f'{algo_name}_{feature_name}'\n",
    "\n",
    "feature_file = feature_dir / f'{feature_name}.csv'\n",
    "sub_file = sub_dir / f'{model_name}.csv'"
   ]
  },
  {
   "cell_type": "code",
   "execution_count": 9,
   "metadata": {},
   "outputs": [
    {
     "name": "stdout",
     "output_type": "stream",
     "text": [
      "(400000, 20)\n"
     ]
    },
    {
     "data": {
      "text/html": [
       "<div>\n",
       "<style scoped>\n",
       "    .dataframe tbody tr th:only-of-type {\n",
       "        vertical-align: middle;\n",
       "    }\n",
       "\n",
       "    .dataframe tbody tr th {\n",
       "        vertical-align: top;\n",
       "    }\n",
       "\n",
       "    .dataframe thead th {\n",
       "        text-align: right;\n",
       "    }\n",
       "</style>\n",
       "<table border=\"1\" class=\"dataframe\">\n",
       "  <thead>\n",
       "    <tr style=\"text-align: right;\">\n",
       "      <th></th>\n",
       "      <th>z</th>\n",
       "      <th>redshift</th>\n",
       "      <th>dered_u</th>\n",
       "      <th>dered_g</th>\n",
       "      <th>dered_r</th>\n",
       "      <th>dered_i</th>\n",
       "      <th>dered_z</th>\n",
       "      <th>nObserve</th>\n",
       "      <th>airmass_u</th>\n",
       "      <th>class</th>\n",
       "      <th>d_dered_u</th>\n",
       "      <th>d_dered_g</th>\n",
       "      <th>d_dered_r</th>\n",
       "      <th>d_dered_i</th>\n",
       "      <th>d_dered_z</th>\n",
       "      <th>d_dered_ig</th>\n",
       "      <th>d_dered_zg</th>\n",
       "      <th>d_dered_rz</th>\n",
       "      <th>d_dered_iz</th>\n",
       "      <th>d_obs_det</th>\n",
       "    </tr>\n",
       "    <tr>\n",
       "      <th>id</th>\n",
       "      <th></th>\n",
       "      <th></th>\n",
       "      <th></th>\n",
       "      <th></th>\n",
       "      <th></th>\n",
       "      <th></th>\n",
       "      <th></th>\n",
       "      <th></th>\n",
       "      <th></th>\n",
       "      <th></th>\n",
       "      <th></th>\n",
       "      <th></th>\n",
       "      <th></th>\n",
       "      <th></th>\n",
       "      <th></th>\n",
       "      <th></th>\n",
       "      <th></th>\n",
       "      <th></th>\n",
       "      <th></th>\n",
       "      <th></th>\n",
       "    </tr>\n",
       "  </thead>\n",
       "  <tbody>\n",
       "    <tr>\n",
       "      <th>0</th>\n",
       "      <td>16.9396</td>\n",
       "      <td>-8.1086e-05</td>\n",
       "      <td>23.1243</td>\n",
       "      <td>20.2578</td>\n",
       "      <td>18.9551</td>\n",
       "      <td>17.6321</td>\n",
       "      <td>16.9089</td>\n",
       "      <td>2.9444</td>\n",
       "      <td>1.1898</td>\n",
       "      <td>0.0</td>\n",
       "      <td>-0.1397</td>\n",
       "      <td>-0.0790</td>\n",
       "      <td>-0.0544</td>\n",
       "      <td>-0.0403</td>\n",
       "      <td>-0.0307</td>\n",
       "      <td>-2.6257</td>\n",
       "      <td>-3.3488</td>\n",
       "      <td>2.0462</td>\n",
       "      <td>0.7232</td>\n",
       "      <td>-15.0556</td>\n",
       "    </tr>\n",
       "    <tr>\n",
       "      <th>1</th>\n",
       "      <td>13.1689</td>\n",
       "      <td>4.5061e-03</td>\n",
       "      <td>14.9664</td>\n",
       "      <td>14.0045</td>\n",
       "      <td>13.4114</td>\n",
       "      <td>13.2363</td>\n",
       "      <td>13.1347</td>\n",
       "      <td>0.6931</td>\n",
       "      <td>1.2533</td>\n",
       "      <td>1.0</td>\n",
       "      <td>-0.0857</td>\n",
       "      <td>-0.0574</td>\n",
       "      <td>-0.0410</td>\n",
       "      <td>-0.0322</td>\n",
       "      <td>-0.0343</td>\n",
       "      <td>-0.7683</td>\n",
       "      <td>-0.8698</td>\n",
       "      <td>0.2767</td>\n",
       "      <td>0.1016</td>\n",
       "      <td>-0.3069</td>\n",
       "    </tr>\n",
       "    <tr>\n",
       "      <th>2</th>\n",
       "      <td>15.3500</td>\n",
       "      <td>4.7198e-04</td>\n",
       "      <td>16.6076</td>\n",
       "      <td>15.6866</td>\n",
       "      <td>15.4400</td>\n",
       "      <td>15.3217</td>\n",
       "      <td>15.2961</td>\n",
       "      <td>1.0986</td>\n",
       "      <td>1.0225</td>\n",
       "      <td>0.0</td>\n",
       "      <td>-0.1787</td>\n",
       "      <td>-0.1388</td>\n",
       "      <td>-0.0963</td>\n",
       "      <td>-0.0718</td>\n",
       "      <td>-0.0540</td>\n",
       "      <td>-0.3649</td>\n",
       "      <td>-0.3905</td>\n",
       "      <td>0.1440</td>\n",
       "      <td>0.0257</td>\n",
       "      <td>-0.9014</td>\n",
       "    </tr>\n",
       "    <tr>\n",
       "      <th>3</th>\n",
       "      <td>19.6346</td>\n",
       "      <td>5.8143e-06</td>\n",
       "      <td>25.3536</td>\n",
       "      <td>20.9947</td>\n",
       "      <td>20.0873</td>\n",
       "      <td>19.7947</td>\n",
       "      <td>19.5552</td>\n",
       "      <td>1.6094</td>\n",
       "      <td>1.2054</td>\n",
       "      <td>0.0</td>\n",
       "      <td>-0.3070</td>\n",
       "      <td>-0.1941</td>\n",
       "      <td>-0.1339</td>\n",
       "      <td>-0.1003</td>\n",
       "      <td>-0.0795</td>\n",
       "      <td>-1.2000</td>\n",
       "      <td>-1.4395</td>\n",
       "      <td>0.5321</td>\n",
       "      <td>0.2395</td>\n",
       "      <td>-1.3906</td>\n",
       "    </tr>\n",
       "    <tr>\n",
       "      <th>4</th>\n",
       "      <td>17.9826</td>\n",
       "      <td>-3.3247e-05</td>\n",
       "      <td>23.7714</td>\n",
       "      <td>20.4338</td>\n",
       "      <td>18.8630</td>\n",
       "      <td>18.1903</td>\n",
       "      <td>17.8759</td>\n",
       "      <td>2.6391</td>\n",
       "      <td>1.1939</td>\n",
       "      <td>0.0</td>\n",
       "      <td>-0.6820</td>\n",
       "      <td>-0.2653</td>\n",
       "      <td>-0.1794</td>\n",
       "      <td>-0.1339</td>\n",
       "      <td>-0.1067</td>\n",
       "      <td>-2.2436</td>\n",
       "      <td>-2.5579</td>\n",
       "      <td>0.9871</td>\n",
       "      <td>0.3144</td>\n",
       "      <td>-9.3609</td>\n",
       "    </tr>\n",
       "  </tbody>\n",
       "</table>\n",
       "</div>"
      ],
      "text/plain": [
       "          z    redshift  dered_u  dered_g  dered_r  dered_i  dered_z  \\\n",
       "id                                                                     \n",
       "0   16.9396 -8.1086e-05  23.1243  20.2578  18.9551  17.6321  16.9089   \n",
       "1   13.1689  4.5061e-03  14.9664  14.0045  13.4114  13.2363  13.1347   \n",
       "2   15.3500  4.7198e-04  16.6076  15.6866  15.4400  15.3217  15.2961   \n",
       "3   19.6346  5.8143e-06  25.3536  20.9947  20.0873  19.7947  19.5552   \n",
       "4   17.9826 -3.3247e-05  23.7714  20.4338  18.8630  18.1903  17.8759   \n",
       "\n",
       "    nObserve  airmass_u  class  d_dered_u  d_dered_g  d_dered_r  d_dered_i  \\\n",
       "id                                                                           \n",
       "0     2.9444     1.1898    0.0    -0.1397    -0.0790    -0.0544    -0.0403   \n",
       "1     0.6931     1.2533    1.0    -0.0857    -0.0574    -0.0410    -0.0322   \n",
       "2     1.0986     1.0225    0.0    -0.1787    -0.1388    -0.0963    -0.0718   \n",
       "3     1.6094     1.2054    0.0    -0.3070    -0.1941    -0.1339    -0.1003   \n",
       "4     2.6391     1.1939    0.0    -0.6820    -0.2653    -0.1794    -0.1339   \n",
       "\n",
       "    d_dered_z  d_dered_ig  d_dered_zg  d_dered_rz  d_dered_iz  d_obs_det  \n",
       "id                                                                        \n",
       "0     -0.0307     -2.6257     -3.3488      2.0462      0.7232   -15.0556  \n",
       "1     -0.0343     -0.7683     -0.8698      0.2767      0.1016    -0.3069  \n",
       "2     -0.0540     -0.3649     -0.3905      0.1440      0.0257    -0.9014  \n",
       "3     -0.0795     -1.2000     -1.4395      0.5321      0.2395    -1.3906  \n",
       "4     -0.1067     -2.2436     -2.5579      0.9871      0.3144    -9.3609  "
      ]
     },
     "execution_count": 9,
     "metadata": {},
     "output_type": "execute_result"
    }
   ],
   "source": [
    "df = pd.read_csv(feature_file, index_col=0)\n",
    "print(df.shape)\n",
    "df.head()"
   ]
  },
  {
   "cell_type": "code",
   "execution_count": 10,
   "metadata": {},
   "outputs": [
    {
     "name": "stdout",
     "output_type": "stream",
     "text": [
      "(320000,) (320000, 19) (80000, 19)\n"
     ]
    }
   ],
   "source": [
    "y = df[target_col].values[:320000]\n",
    "df.drop(target_col, axis=1, inplace=True)\n",
    "trn = df.iloc[:320000]\n",
    "tst = df.iloc[320000:]\n",
    "feature_name = df.columns.tolist()\n",
    "print(y.shape, trn.shape, tst.shape)"
   ]
  },
  {
   "cell_type": "markdown",
   "metadata": {},
   "source": [
    "## 학습/검증 데이터 구분"
   ]
  },
  {
   "cell_type": "code",
   "execution_count": 11,
   "metadata": {},
   "outputs": [
    {
     "name": "stdout",
     "output_type": "stream",
     "text": [
      "(256000, 19) (64000, 19) (256000,) (64000,)\n"
     ]
    }
   ],
   "source": [
    "X_trn, X_val, y_trn, y_val = train_test_split(trn, y, test_size=.2, random_state=seed)\n",
    "print(X_trn.shape, X_val.shape, y_trn.shape, y_val.shape)"
   ]
  },
  {
   "cell_type": "markdown",
   "metadata": {},
   "source": [
    "## LightGBM 모델 학습"
   ]
  },
  {
   "cell_type": "code",
   "execution_count": 12,
   "metadata": {},
   "outputs": [
    {
     "name": "stdout",
     "output_type": "stream",
     "text": [
      "[1]\tvalid_0's multi_logloss: 0.860801\n",
      "Training until validation scores don't improve for 10 rounds\n",
      "[2]\tvalid_0's multi_logloss: 0.761944\n",
      "[3]\tvalid_0's multi_logloss: 0.676281\n",
      "[4]\tvalid_0's multi_logloss: 0.605772\n",
      "[5]\tvalid_0's multi_logloss: 0.548195\n",
      "[6]\tvalid_0's multi_logloss: 0.506556\n",
      "[7]\tvalid_0's multi_logloss: 0.469048\n",
      "[8]\tvalid_0's multi_logloss: 0.440966\n",
      "[9]\tvalid_0's multi_logloss: 0.413089\n",
      "[10]\tvalid_0's multi_logloss: 0.384214\n",
      "[11]\tvalid_0's multi_logloss: 0.360318\n",
      "[12]\tvalid_0's multi_logloss: 0.339888\n",
      "[13]\tvalid_0's multi_logloss: 0.32178\n",
      "[14]\tvalid_0's multi_logloss: 0.304938\n",
      "[15]\tvalid_0's multi_logloss: 0.290933\n",
      "[16]\tvalid_0's multi_logloss: 0.278694\n",
      "[17]\tvalid_0's multi_logloss: 0.268159\n",
      "[18]\tvalid_0's multi_logloss: 0.258341\n",
      "[19]\tvalid_0's multi_logloss: 0.249296\n",
      "[20]\tvalid_0's multi_logloss: 0.242481\n",
      "[21]\tvalid_0's multi_logloss: 0.235537\n",
      "[22]\tvalid_0's multi_logloss: 0.22916\n",
      "[23]\tvalid_0's multi_logloss: 0.223278\n",
      "[24]\tvalid_0's multi_logloss: 0.219107\n",
      "[25]\tvalid_0's multi_logloss: 0.215013\n",
      "[26]\tvalid_0's multi_logloss: 0.211612\n",
      "[27]\tvalid_0's multi_logloss: 0.207668\n",
      "[28]\tvalid_0's multi_logloss: 0.204073\n",
      "[29]\tvalid_0's multi_logloss: 0.200729\n",
      "[30]\tvalid_0's multi_logloss: 0.198228\n",
      "[31]\tvalid_0's multi_logloss: 0.19562\n",
      "[32]\tvalid_0's multi_logloss: 0.193603\n",
      "[33]\tvalid_0's multi_logloss: 0.191356\n",
      "[34]\tvalid_0's multi_logloss: 0.189341\n",
      "[35]\tvalid_0's multi_logloss: 0.18749\n",
      "[36]\tvalid_0's multi_logloss: 0.186154\n",
      "[37]\tvalid_0's multi_logloss: 0.184622\n",
      "[38]\tvalid_0's multi_logloss: 0.183245\n",
      "[39]\tvalid_0's multi_logloss: 0.182165\n",
      "[40]\tvalid_0's multi_logloss: 0.180929\n",
      "[41]\tvalid_0's multi_logloss: 0.179772\n",
      "[42]\tvalid_0's multi_logloss: 0.178726\n",
      "[43]\tvalid_0's multi_logloss: 0.177881\n",
      "[44]\tvalid_0's multi_logloss: 0.17708\n",
      "[45]\tvalid_0's multi_logloss: 0.176408\n",
      "[46]\tvalid_0's multi_logloss: 0.175775\n",
      "[47]\tvalid_0's multi_logloss: 0.175026\n",
      "[48]\tvalid_0's multi_logloss: 0.174469\n",
      "[49]\tvalid_0's multi_logloss: 0.173906\n",
      "[50]\tvalid_0's multi_logloss: 0.173412\n",
      "[51]\tvalid_0's multi_logloss: 0.172907\n",
      "[52]\tvalid_0's multi_logloss: 0.172529\n",
      "[53]\tvalid_0's multi_logloss: 0.172057\n",
      "[54]\tvalid_0's multi_logloss: 0.171779\n",
      "[55]\tvalid_0's multi_logloss: 0.1716\n",
      "[56]\tvalid_0's multi_logloss: 0.171306\n",
      "[57]\tvalid_0's multi_logloss: 0.171073\n",
      "[58]\tvalid_0's multi_logloss: 0.170774\n",
      "[59]\tvalid_0's multi_logloss: 0.170602\n",
      "[60]\tvalid_0's multi_logloss: 0.170309\n",
      "[61]\tvalid_0's multi_logloss: 0.170002\n",
      "[62]\tvalid_0's multi_logloss: 0.169825\n",
      "[63]\tvalid_0's multi_logloss: 0.16967\n",
      "[64]\tvalid_0's multi_logloss: 0.16945\n",
      "[65]\tvalid_0's multi_logloss: 0.169327\n",
      "[66]\tvalid_0's multi_logloss: 0.169947\n",
      "[67]\tvalid_0's multi_logloss: 0.169745\n",
      "[68]\tvalid_0's multi_logloss: 0.169312\n",
      "[69]\tvalid_0's multi_logloss: 0.169117\n",
      "[70]\tvalid_0's multi_logloss: 0.168919\n",
      "[71]\tvalid_0's multi_logloss: 0.168873\n",
      "[72]\tvalid_0's multi_logloss: 0.168639\n",
      "[73]\tvalid_0's multi_logloss: 0.168575\n",
      "[74]\tvalid_0's multi_logloss: 0.16844\n",
      "[75]\tvalid_0's multi_logloss: 0.168384\n",
      "[76]\tvalid_0's multi_logloss: 0.168253\n",
      "[77]\tvalid_0's multi_logloss: 0.168146\n",
      "[78]\tvalid_0's multi_logloss: 0.168019\n",
      "[79]\tvalid_0's multi_logloss: 0.167892\n",
      "[80]\tvalid_0's multi_logloss: 0.167778\n",
      "[81]\tvalid_0's multi_logloss: 0.167674\n",
      "[82]\tvalid_0's multi_logloss: 0.167578\n",
      "[83]\tvalid_0's multi_logloss: 0.167432\n",
      "[84]\tvalid_0's multi_logloss: 0.167345\n",
      "[85]\tvalid_0's multi_logloss: 0.167261\n",
      "[86]\tvalid_0's multi_logloss: 0.167236\n",
      "[87]\tvalid_0's multi_logloss: 0.167552\n",
      "[88]\tvalid_0's multi_logloss: 0.167452\n",
      "[89]\tvalid_0's multi_logloss: 0.170076\n",
      "[90]\tvalid_0's multi_logloss: 0.170428\n",
      "[91]\tvalid_0's multi_logloss: 0.191644\n",
      "[92]\tvalid_0's multi_logloss: 0.173337\n",
      "[93]\tvalid_0's multi_logloss: 0.172447\n",
      "[94]\tvalid_0's multi_logloss: 0.171838\n",
      "[95]\tvalid_0's multi_logloss: 0.177366\n",
      "[96]\tvalid_0's multi_logloss: 0.176342\n",
      "Early stopping, best iteration is:\n",
      "[86]\tvalid_0's multi_logloss: 0.167236\n"
     ]
    }
   ],
   "source": [
    "clf = lgb.LGBMClassifier(objective='multiclass',\n",
    "                         n_estimators=1000,\n",
    "                         num_leaves=64,\n",
    "                         learning_rate=0.1,\n",
    "                         min_child_samples=10,\n",
    "                         subsample=.5,\n",
    "                         subsample_freq=1,\n",
    "                         colsample_bytree=.8,\n",
    "                         random_state=seed,\n",
    "                         n_jobs=-1)\n",
    "clf.fit(X_trn, y_trn,\n",
    "        eval_set=[(X_val, y_val)],\n",
    "        eval_metric='multiclass',\n",
    "        early_stopping_rounds=10)\n",
    "p_val = clf.predict(X_val)\n",
    "p_tst = clf.predict(tst)"
   ]
  },
  {
   "cell_type": "code",
   "execution_count": 13,
   "metadata": {},
   "outputs": [
    {
     "name": "stdout",
     "output_type": "stream",
     "text": [
      "93.0406%\n"
     ]
    }
   ],
   "source": [
    "print(f'{accuracy_score(y_val, p_val) * 100:.4f}%')"
   ]
  },
  {
   "cell_type": "markdown",
   "metadata": {},
   "source": [
    "## 피처 중요도 시각화"
   ]
  },
  {
   "cell_type": "code",
   "execution_count": 14,
   "metadata": {},
   "outputs": [
    {
     "data": {
      "text/plain": [
       "<matplotlib.axes._subplots.AxesSubplot at 0x26e3aee83c8>"
      ]
     },
     "execution_count": 14,
     "metadata": {},
     "output_type": "execute_result"
    },
    {
     "data": {
      "image/png": "[encoded data removed]",
      "text/plain": [
       "<Figure size 1152x576 with 1 Axes>"
      ]
     },
     "metadata": {},
     "output_type": "display_data"
    }
   ],
   "source": [
    "imp = pd.DataFrame({'feature': trn.columns, 'importance': clf.feature_importances_})\n",
    "imp = imp.sort_values('importance').set_index('feature')\n",
    "imp.plot(kind='barh')"
   ]
  },
  {
   "cell_type": "markdown",
   "metadata": {},
   "source": [
    "## 제출 파일 생성 "
   ]
  },
  {
   "cell_type": "code",
   "execution_count": 15,
   "metadata": {},
   "outputs": [
    {
     "name": "stdout",
     "output_type": "stream",
     "text": [
      "(80000, 1)\n"
     ]
    },
    {
     "data": {
      "text/html": [
       "<div>\n",
       "<style scoped>\n",
       "    .dataframe tbody tr th:only-of-type {\n",
       "        vertical-align: middle;\n",
       "    }\n",
       "\n",
       "    .dataframe tbody tr th {\n",
       "        vertical-align: top;\n",
       "    }\n",
       "\n",
       "    .dataframe thead th {\n",
       "        text-align: right;\n",
       "    }\n",
       "</style>\n",
       "<table border=\"1\" class=\"dataframe\">\n",
       "  <thead>\n",
       "    <tr style=\"text-align: right;\">\n",
       "      <th></th>\n",
       "      <th>class</th>\n",
       "    </tr>\n",
       "    <tr>\n",
       "      <th>id</th>\n",
       "      <th></th>\n",
       "    </tr>\n",
       "  </thead>\n",
       "  <tbody>\n",
       "    <tr>\n",
       "      <th>320000</th>\n",
       "      <td>0</td>\n",
       "    </tr>\n",
       "    <tr>\n",
       "      <th>320001</th>\n",
       "      <td>0</td>\n",
       "    </tr>\n",
       "    <tr>\n",
       "      <th>320002</th>\n",
       "      <td>0</td>\n",
       "    </tr>\n",
       "    <tr>\n",
       "      <th>320003</th>\n",
       "      <td>0</td>\n",
       "    </tr>\n",
       "    <tr>\n",
       "      <th>320004</th>\n",
       "      <td>0</td>\n",
       "    </tr>\n",
       "  </tbody>\n",
       "</table>\n",
       "</div>"
      ],
      "text/plain": [
       "        class\n",
       "id           \n",
       "320000      0\n",
       "320001      0\n",
       "320002      0\n",
       "320003      0\n",
       "320004      0"
      ]
     },
     "execution_count": 15,
     "metadata": {},
     "output_type": "execute_result"
    }
   ],
   "source": [
    "sub = pd.read_csv(sample_file, index_col=0)\n",
    "print(sub.shape)\n",
    "sub.head()"
   ]
  },
  {
   "cell_type": "code",
   "execution_count": 16,
   "metadata": {},
   "outputs": [
    {
     "data": {
      "text/html": [
       "<div>\n",
       "<style scoped>\n",
       "    .dataframe tbody tr th:only-of-type {\n",
       "        vertical-align: middle;\n",
       "    }\n",
       "\n",
       "    .dataframe tbody tr th {\n",
       "        vertical-align: top;\n",
       "    }\n",
       "\n",
       "    .dataframe thead th {\n",
       "        text-align: right;\n",
       "    }\n",
       "</style>\n",
       "<table border=\"1\" class=\"dataframe\">\n",
       "  <thead>\n",
       "    <tr style=\"text-align: right;\">\n",
       "      <th></th>\n",
       "      <th>class</th>\n",
       "    </tr>\n",
       "    <tr>\n",
       "      <th>id</th>\n",
       "      <th></th>\n",
       "    </tr>\n",
       "  </thead>\n",
       "  <tbody>\n",
       "    <tr>\n",
       "      <th>320000</th>\n",
       "      <td>2.0</td>\n",
       "    </tr>\n",
       "    <tr>\n",
       "      <th>320001</th>\n",
       "      <td>0.0</td>\n",
       "    </tr>\n",
       "    <tr>\n",
       "      <th>320002</th>\n",
       "      <td>2.0</td>\n",
       "    </tr>\n",
       "    <tr>\n",
       "      <th>320003</th>\n",
       "      <td>0.0</td>\n",
       "    </tr>\n",
       "    <tr>\n",
       "      <th>320004</th>\n",
       "      <td>2.0</td>\n",
       "    </tr>\n",
       "  </tbody>\n",
       "</table>\n",
       "</div>"
      ],
      "text/plain": [
       "        class\n",
       "id           \n",
       "320000    2.0\n",
       "320001    0.0\n",
       "320002    2.0\n",
       "320003    0.0\n",
       "320004    2.0"
      ]
     },
     "execution_count": 16,
     "metadata": {},
     "output_type": "execute_result"
    }
   ],
   "source": [
    "sub[target_col] = p_tst\n",
    "sub.head()"
   ]
  },
  {
   "cell_type": "code",
   "execution_count": 17,
   "metadata": {},
   "outputs": [
    {
     "data": {
      "text/plain": [
       "2.0    41154\n",
       "0.0    29976\n",
       "1.0     8870\n",
       "Name: class, dtype: int64"
      ]
     },
     "execution_count": 17,
     "metadata": {},
     "output_type": "execute_result"
    }
   ],
   "source": [
    "sub[target_col].value_counts()"
   ]
  },
  {
   "cell_type": "code",
   "execution_count": 18,
   "metadata": {},
   "outputs": [],
   "source": [
    "sub.to_csv(sub_file)"
   ]
  }
 ],
 "metadata": {
  "kernelspec": {
   "display_name": "Python 3",
   "language": "python",
   "name": "python3"
  },
  "language_info": {
   "codemirror_mode": {
    "name": "ipython",
    "version": 3
   },
   "file_extension": ".py",
   "mimetype": "text/x-python",
   "name": "python",
   "nbconvert_exporter": "python",
   "pygments_lexer": "ipython3",
   "version": "3.7.6"
  }
 },
 "nbformat": 4,
 "nbformat_minor": 4
}
